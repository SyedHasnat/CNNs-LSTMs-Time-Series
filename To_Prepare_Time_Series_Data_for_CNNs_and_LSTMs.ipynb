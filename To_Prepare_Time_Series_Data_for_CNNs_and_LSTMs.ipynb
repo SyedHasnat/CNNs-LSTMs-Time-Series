{
  "cells": [
    {
      "cell_type": "markdown",
      "metadata": {
        "id": "view-in-github",
        "colab_type": "text"
      },
      "source": [
        "<a href=\"https://colab.research.google.com/github/SyedHasnat/CNNs-LSTMs-Time-Series/blob/main/To_Prepare_Time_Series_Data_for_CNNs_and_LSTMs.ipynb\" target=\"_parent\"><img src=\"https://colab.research.google.com/assets/colab-badge.svg\" alt=\"Open In Colab\"/></a>"
      ]
    },
    {
      "cell_type": "markdown",
      "id": "af753611",
      "metadata": {
        "id": "af753611"
      },
      "source": [
        "# How to Prepare Time Series Data for CNNs and LSTMs\n",
        "## After understanding this notebook, you will know:\n",
        "####  How to transform a time series dataset into a two-dimensional sup ervised learning format.\n",
        "####  How to transform a two-dimensional time series dataset into a three-dimensional structure suitable for CNNs and LSTMs.\n",
        "####  How to step through a worked example of splitting a very long time series into subsequencesready for training a CNN or                LSTM model\n",
        "## This notebook is divided into three parts\n",
        "### 1. Time Series to Supervised.\n",
        "### 2. 3D Data Preparation Basics.\n",
        "### 3. Univariate Worked Example."
      ]
    },
    {
      "cell_type": "markdown",
      "id": "0da0909d",
      "metadata": {
        "id": "0da0909d"
      },
      "source": [
        "# 1.Time Series to Supervised"
      ]
    },
    {
      "cell_type": "code",
      "execution_count": null,
      "id": "82978739",
      "metadata": {
        "id": "82978739"
      },
      "outputs": [],
      "source": [
        "import numpy as np"
      ]
    },
    {
      "cell_type": "markdown",
      "id": "0cacbffa",
      "metadata": {
        "id": "0cacbffa"
      },
      "source": [
        "#### Define univariate time series"
      ]
    },
    {
      "cell_type": "code",
      "execution_count": null,
      "id": "2c17eac8",
      "metadata": {
        "id": "2c17eac8",
        "outputId": "fdf1c838-0248-4afb-e4a4-0be3fcf41581"
      },
      "outputs": [
        {
          "name": "stdout",
          "output_type": "stream",
          "text": [
            "[ 1  2  3  4  5  6  7  8  9 10]\n"
          ]
        }
      ],
      "source": [
        "my_data = np.arange(10)+1\n",
        "print(my_data)"
      ]
    },
    {
      "cell_type": "markdown",
      "id": "628a4782",
      "metadata": {
        "id": "628a4782"
      },
      "source": [
        "### The above 10-step univariate series can be expressed as a supervised learning problem with three time steps for input and one step as output."
      ]
    },
    {
      "cell_type": "markdown",
      "id": "5bd13e5d",
      "metadata": {
        "id": "5bd13e5d"
      },
      "source": [
        "### Transform to a supervised learning problem "
      ]
    },
    {
      "cell_type": "markdown",
      "id": "e43980f5",
      "metadata": {
        "id": "e43980f5"
      },
      "source": [
        "### Transform input to [samples, features]"
      ]
    },
    {
      "cell_type": "code",
      "execution_count": null,
      "id": "37a2f42b",
      "metadata": {
        "id": "37a2f42b",
        "outputId": "5a7f3a67-7670-42b9-bc31-2f7fef5dda5c"
      },
      "outputs": [
        {
          "name": "stdout",
          "output_type": "stream",
          "text": [
            "[1 2 3] 4\n",
            "[2 3 4] 5\n",
            "[3 4 5] 6\n",
            "[4 5 6] 7\n",
            "[5 6 7] 8\n",
            "[6 7 8] 9\n",
            "[7 8 9] 10\n"
          ]
        }
      ],
      "source": [
        "x=[]\n",
        "y=[]\n",
        "#or x,y=[],[]\n",
        "#or x,y=list(),list()\n",
        "for i in range(len(data)):\n",
        "    endx_i = i+3\n",
        "    if endx_i > len(data)-1:\n",
        "        break\n",
        "    seq_x = data[i:endx_i]\n",
        "    seq_y = data[endx_i]\n",
        "    x.append(seq_x)\n",
        "    y.append(seq_y)\n",
        "for i in range(len(x)):\n",
        "    print(x[i],y[i])"
      ]
    },
    {
      "cell_type": "markdown",
      "id": "886b081a",
      "metadata": {
        "id": "886b081a"
      },
      "source": [
        "## Lets generalized it means to make function which will handle this "
      ]
    },
    {
      "cell_type": "code",
      "execution_count": null,
      "id": "538618df",
      "metadata": {
        "id": "538618df"
      },
      "outputs": [],
      "source": [
        "def supervised_data(length,step_size):\n",
        "    data=np.arange(length)+1\n",
        "    x=[]\n",
        "    y=[]\n",
        "    for i in range(len(data)):\n",
        "        end_ix = i + step_size #generating the output like we say for [1 2 3] output should be 4 and so on\n",
        "        if end_ix > len(data)-1:\n",
        "            break\n",
        "       # seq_x, seq_y = data[i:end_ix], data[end_ix]\n",
        "        seq_x = data[i:end_ix]\n",
        "        seq_y = data[end_ix]\n",
        "        x.append(seq_x)\n",
        "        y.append(seq_y)\n",
        "    for i in range(len(x)):\n",
        "        print(x[i], y[i])"
      ]
    },
    {
      "cell_type": "code",
      "execution_count": null,
      "id": "19234be2",
      "metadata": {
        "id": "19234be2",
        "outputId": "4b7b4d50-d751-47c0-e1c9-17ad50206066"
      },
      "outputs": [
        {
          "name": "stdout",
          "output_type": "stream",
          "text": [
            "[1 2 3] 4\n",
            "[2 3 4] 5\n",
            "[3 4 5] 6\n",
            "[4 5 6] 7\n",
            "[5 6 7] 8\n",
            "[6 7 8] 9\n",
            "[7 8 9] 10\n"
          ]
        }
      ],
      "source": [
        "supervised_data(10,3)"
      ]
    },
    {
      "cell_type": "markdown",
      "id": "77163875",
      "metadata": {
        "id": "77163875"
      },
      "source": [
        "### Data in this form can be used directly to train a simple neural network, such as a Multilaye Perceptron. The difficulty for beginners comes when trying to prepare this data for CNNs and LSTMs that require data to have a three-dimensional structure instead of the two-dimensional structure described so far."
      ]
    },
    {
      "cell_type": "markdown",
      "id": "b66a4047",
      "metadata": {
        "id": "b66a4047"
      },
      "source": [
        "# 2. 3D Data Preparation Basics."
      ]
    },
    {
      "cell_type": "markdown",
      "id": "2ebb0135",
      "metadata": {
        "id": "2ebb0135"
      },
      "source": [
        "### The input to every CNN and LSTM layer must be three-dimensional. The three dimensions of this input are:\n",
        "####  Samples. One sequence is one sample. A batch is comprised of one or more samples.\n",
        "####  Time Steps. One time step is one point of observation in the sample. One sample is comprised of multiple time steps.\n",
        "####  Features. One feature is one observation at a time step. One time step is comprised of one or more features."
      ]
    },
    {
      "cell_type": "code",
      "execution_count": null,
      "id": "bbe36619",
      "metadata": {
        "id": "bbe36619"
      },
      "outputs": [],
      "source": [
        "from numpy import array \n",
        "def supervised_data1(length,step_size):\n",
        "    data1=np.arange(length)+1\n",
        "    x=[]\n",
        "    y=[]\n",
        "    for i in range(len(data1)):\n",
        "        end_ix = i + step_size #generating the output like we say for [1 2 3] output should be 4 and so on\n",
        "        if end_ix > len(data1)-1:\n",
        "            break\n",
        "       # seq_x, seq_y = data[i:end_ix], data[end_ix]\n",
        "        seq_x = data1[i:end_ix]\n",
        "        seq_y = data1[end_ix]\n",
        "        x.append(seq_x)\n",
        "        y.append(seq_y)\n",
        "    for i in range(len(x)):\n",
        "        print(x[i], y[i])"
      ]
    },
    {
      "cell_type": "code",
      "execution_count": null,
      "id": "4259fa53",
      "metadata": {
        "id": "4259fa53",
        "outputId": "1896b8e0-172f-4b47-d9ae-055464d7c393"
      },
      "outputs": [
        {
          "name": "stdout",
          "output_type": "stream",
          "text": [
            "[1 2 3] 4\n",
            "[2 3 4] 5\n",
            "[3 4 5] 6\n",
            "[4 5 6] 7\n",
            "[5 6 7] 8\n",
            "[6 7 8] 9\n",
            "[7 8 9] 10\n"
          ]
        }
      ],
      "source": [
        "supervised_data1(10,3)"
      ]
    },
    {
      "cell_type": "markdown",
      "id": "16a5c265",
      "metadata": {
        "id": "16a5c265"
      },
      "source": [
        "## Check type of x and y"
      ]
    },
    {
      "cell_type": "code",
      "execution_count": null,
      "id": "4c98ab9c",
      "metadata": {
        "id": "4c98ab9c",
        "outputId": "93e0df08-8c65-42eb-db32-86918a43dda9"
      },
      "outputs": [
        {
          "data": {
            "text/plain": [
              "list"
            ]
          },
          "execution_count": 95,
          "metadata": {},
          "output_type": "execute_result"
        }
      ],
      "source": [
        "type(x)"
      ]
    },
    {
      "cell_type": "code",
      "execution_count": null,
      "id": "56c37d42",
      "metadata": {
        "id": "56c37d42",
        "outputId": "ebbea66f-022c-4962-83ac-2f727a66d592"
      },
      "outputs": [
        {
          "data": {
            "text/plain": [
              "list"
            ]
          },
          "execution_count": 96,
          "metadata": {},
          "output_type": "execute_result"
        }
      ],
      "source": [
        "type(y)"
      ]
    },
    {
      "cell_type": "code",
      "execution_count": null,
      "id": "1d560aee",
      "metadata": {
        "id": "1d560aee",
        "outputId": "77b9ada6-73b6-45c3-ca32-ea2755be067e"
      },
      "outputs": [
        {
          "ename": "AttributeError",
          "evalue": "'list' object has no attribute 'shape'",
          "output_type": "error",
          "traceback": [
            "\u001b[1;31m---------------------------------------------------------------------------\u001b[0m",
            "\u001b[1;31mAttributeError\u001b[0m                            Traceback (most recent call last)",
            "\u001b[1;32mC:\\Users\\SYEDHA~1\\AppData\\Local\\Temp/ipykernel_9792/2760344400.py\u001b[0m in \u001b[0;36m<module>\u001b[1;34m\u001b[0m\n\u001b[0;32m      1\u001b[0m \u001b[1;31m#this will not work\u001b[0m\u001b[1;33m\u001b[0m\u001b[1;33m\u001b[0m\u001b[0m\n\u001b[1;32m----> 2\u001b[1;33m \u001b[0mx\u001b[0m\u001b[1;33m.\u001b[0m\u001b[0mshape\u001b[0m\u001b[1;33m\u001b[0m\u001b[1;33m\u001b[0m\u001b[0m\n\u001b[0m",
            "\u001b[1;31mAttributeError\u001b[0m: 'list' object has no attribute 'shape'"
          ]
        }
      ],
      "source": [
        "#this will not work\n",
        "x.shape"
      ]
    },
    {
      "cell_type": "markdown",
      "id": "7e9679f1",
      "metadata": {
        "id": "7e9679f1"
      },
      "source": [
        "## If it is not working we can't reshape it to 3D like"
      ]
    },
    {
      "cell_type": "code",
      "execution_count": null,
      "id": "e7a99494",
      "metadata": {
        "id": "e7a99494",
        "outputId": "7136a88c-5639-4548-d679-c45105ec2ac9"
      },
      "outputs": [
        {
          "ename": "AttributeError",
          "evalue": "'list' object has no attribute 'reshape'",
          "output_type": "error",
          "traceback": [
            "\u001b[1;31m---------------------------------------------------------------------------\u001b[0m",
            "\u001b[1;31mAttributeError\u001b[0m                            Traceback (most recent call last)",
            "\u001b[1;32mC:\\Users\\SYEDHA~1\\AppData\\Local\\Temp/ipykernel_9792/304065502.py\u001b[0m in \u001b[0;36m<module>\u001b[1;34m\u001b[0m\n\u001b[1;32m----> 1\u001b[1;33m \u001b[0mX\u001b[0m \u001b[1;33m=\u001b[0m \u001b[0mx\u001b[0m\u001b[1;33m.\u001b[0m\u001b[0mreshape\u001b[0m\u001b[1;33m(\u001b[0m\u001b[1;33m(\u001b[0m\u001b[0mx\u001b[0m\u001b[1;33m.\u001b[0m\u001b[0mshape\u001b[0m\u001b[1;33m[\u001b[0m\u001b[1;36m0\u001b[0m\u001b[1;33m]\u001b[0m\u001b[1;33m,\u001b[0m \u001b[0mx\u001b[0m\u001b[1;33m.\u001b[0m\u001b[0mshape\u001b[0m\u001b[1;33m[\u001b[0m\u001b[1;36m1\u001b[0m\u001b[1;33m]\u001b[0m\u001b[1;33m,\u001b[0m \u001b[1;36m1\u001b[0m\u001b[1;33m)\u001b[0m\u001b[1;33m)\u001b[0m\u001b[1;33m\u001b[0m\u001b[1;33m\u001b[0m\u001b[0m\n\u001b[0m",
            "\u001b[1;31mAttributeError\u001b[0m: 'list' object has no attribute 'reshape'"
          ]
        }
      ],
      "source": [
        "X = x.reshape((x.shape[0], x.shape[1], 1))"
      ]
    },
    {
      "cell_type": "markdown",
      "id": "c172743e",
      "metadata": {
        "id": "c172743e"
      },
      "source": [
        "## To get rid of this problem lets change this list x and y to array"
      ]
    },
    {
      "cell_type": "code",
      "execution_count": null,
      "id": "f5e70605",
      "metadata": {
        "id": "f5e70605",
        "outputId": "fa005dd1-77e5-4e58-efae-70794b7bcf95"
      },
      "outputs": [
        {
          "data": {
            "text/plain": [
              "numpy.ndarray"
            ]
          },
          "execution_count": 99,
          "metadata": {},
          "output_type": "execute_result"
        }
      ],
      "source": [
        "x=np.array(x)\n",
        "type(x)"
      ]
    },
    {
      "cell_type": "code",
      "execution_count": null,
      "id": "52b35916",
      "metadata": {
        "id": "52b35916",
        "outputId": "9ece9d04-c8d8-462c-b462-db2c6b18787b"
      },
      "outputs": [
        {
          "data": {
            "text/plain": [
              "(7, 3)"
            ]
          },
          "execution_count": 100,
          "metadata": {},
          "output_type": "execute_result"
        }
      ],
      "source": [
        "#now it will work\n",
        "x.shape"
      ]
    },
    {
      "cell_type": "code",
      "execution_count": null,
      "id": "28ebc7aa",
      "metadata": {
        "id": "28ebc7aa",
        "outputId": "dc338ccc-f754-4670-8598-00b8e3768a81"
      },
      "outputs": [
        {
          "data": {
            "text/plain": [
              "numpy.ndarray"
            ]
          },
          "execution_count": 101,
          "metadata": {},
          "output_type": "execute_result"
        }
      ],
      "source": [
        "y=np.array(y)\n",
        "type(y)"
      ]
    },
    {
      "cell_type": "markdown",
      "id": "2ff4ca31",
      "metadata": {
        "id": "2ff4ca31"
      },
      "source": [
        "## Now try x.shape and y.shape it will work"
      ]
    },
    {
      "cell_type": "code",
      "execution_count": null,
      "id": "f9bf2c91",
      "metadata": {
        "id": "f9bf2c91",
        "outputId": "ec667034-1eb1-4621-d647-85ae5fe52d3e"
      },
      "outputs": [
        {
          "name": "stdout",
          "output_type": "stream",
          "text": [
            "(7,)\n"
          ]
        }
      ],
      "source": [
        "print(y.shape)"
      ]
    },
    {
      "cell_type": "code",
      "execution_count": null,
      "id": "91727168",
      "metadata": {
        "id": "91727168",
        "outputId": "3ff5550c-f238-434a-b39d-06429cd8bf6b"
      },
      "outputs": [
        {
          "name": "stdout",
          "output_type": "stream",
          "text": [
            "(7, 3)\n"
          ]
        }
      ],
      "source": [
        "print(x.shape)"
      ]
    },
    {
      "cell_type": "markdown",
      "id": "ccba0f01",
      "metadata": {
        "id": "ccba0f01"
      },
      "source": [
        "## Our aim is to convert this (7,3) 2D array into (7,3,1) 3D means \n",
        "### To transform input from [samples, features] to [samples, timesteps, features]"
      ]
    },
    {
      "cell_type": "code",
      "execution_count": null,
      "id": "cb40bbc3",
      "metadata": {
        "id": "cb40bbc3",
        "outputId": "dd58a3ec-4ca2-4749-9c41-18ea83aed212"
      },
      "outputs": [
        {
          "name": "stdout",
          "output_type": "stream",
          "text": [
            "(7, 3, 1)\n"
          ]
        }
      ],
      "source": [
        "X = x.reshape((x.shape[0], x.shape[1], 1))\n",
        "print(X.shape)"
      ]
    },
    {
      "cell_type": "code",
      "execution_count": null,
      "id": "aca5e520",
      "metadata": {
        "id": "aca5e520",
        "outputId": "ca7bdbe8-6991-40c6-8306-8449441ab557"
      },
      "outputs": [
        {
          "name": "stdout",
          "output_type": "stream",
          "text": [
            "[[[1]\n",
            "  [2]\n",
            "  [3]]\n",
            "\n",
            " [[2]\n",
            "  [3]\n",
            "  [4]]\n",
            "\n",
            " [[3]\n",
            "  [4]\n",
            "  [5]]\n",
            "\n",
            " [[4]\n",
            "  [5]\n",
            "  [6]]\n",
            "\n",
            " [[5]\n",
            "  [6]\n",
            "  [7]]\n",
            "\n",
            " [[6]\n",
            "  [7]\n",
            "  [8]]\n",
            "\n",
            " [[7]\n",
            "  [8]\n",
            "  [9]]]\n"
          ]
        }
      ],
      "source": [
        "print(X)"
      ]
    },
    {
      "cell_type": "code",
      "execution_count": null,
      "id": "86e5520a",
      "metadata": {
        "id": "86e5520a",
        "outputId": "c1f91804-2e4c-4bf1-d396-5fedf142bcac"
      },
      "outputs": [
        {
          "data": {
            "text/plain": [
              "21"
            ]
          },
          "execution_count": 108,
          "metadata": {},
          "output_type": "execute_result"
        }
      ],
      "source": [
        "x.size"
      ]
    },
    {
      "cell_type": "markdown",
      "id": "3a403f2f",
      "metadata": {
        "id": "3a403f2f"
      },
      "source": [
        "# Data Preparation"
      ]
    },
    {
      "cell_type": "markdown",
      "id": "bf9da427",
      "metadata": {
        "id": "bf9da427"
      },
      "source": [
        "### Consider that you are in the situation:\n",
        "### I have two columns in my data file with 5,000 rows, column 1 is time (with 1 hour interval) and column 2 is the number of sales and I am trying to forecast the number of sales for future time steps. Help me to set the number of samples, time steps and features in this data for an LSTM? "
      ]
    },
    {
      "cell_type": "markdown",
      "id": "f3e25ccb",
      "metadata": {
        "id": "f3e25ccb"
      },
      "source": [
        "## There are few problems here:\n",
        "###  Data Shap e. LSTMs expect 3D input, and it can be challenging to get your head around this the first time.\n",
        "###  Sequence Length. LSTMs don’t like sequences of more than 200-400 time steps, so the data will need to be split into subsamples.\n",
        "## We will work through this example, broken down into the following 4 steps:\n",
        "### 1. Load the Data\n",
        "### 2. Drop the Time Column\n",
        "### 3. Split Into Samples\n",
        "### 4. Reshape Subsequences"
      ]
    },
    {
      "cell_type": "markdown",
      "id": "ee78ef1b",
      "metadata": {
        "id": "ee78ef1b"
      },
      "source": [
        "# 1. Lets make this Dataset"
      ]
    },
    {
      "cell_type": "code",
      "execution_count": null,
      "id": "df61127c",
      "metadata": {
        "id": "df61127c",
        "outputId": "02e723d4-c704-45cf-ef06-000bcb8852da"
      },
      "outputs": [
        {
          "name": "stdout",
          "output_type": "stream",
          "text": [
            "data is of type:  <class 'list'>\n"
          ]
        }
      ],
      "source": [
        "# example of defining a dataset\n",
        "import numpy as np\n",
        "# define the dataset\n",
        "data=[]\n",
        "#for 5000 rows\n",
        "n = 5000 \n",
        "for i in range(n):\n",
        "    #interval is 1 hour and i starts from zero thats why adding i+1 to exclude 0\n",
        "    # comma , mean the next column as we havw 2 coulmn\n",
        "    data.append([i+1, (i+1)*10]) \n",
        "#this data will of type list, lets confirm\n",
        "print('data is of type: ', type(data))\n",
        "    #to convert it into array\n",
        "   # data = array(data)\n"
      ]
    },
    {
      "cell_type": "code",
      "execution_count": null,
      "id": "1ddc1ab1",
      "metadata": {
        "id": "1ddc1ab1",
        "outputId": "b5e5e7f1-ee24-4f48-da43-4ddd9d328343"
      },
      "outputs": [
        {
          "ename": "TypeError",
          "evalue": "list indices must be integers or slices, not tuple",
          "output_type": "error",
          "traceback": [
            "\u001b[1;31m---------------------------------------------------------------------------\u001b[0m",
            "\u001b[1;31mTypeError\u001b[0m                                 Traceback (most recent call last)",
            "\u001b[1;32mC:\\Users\\SYEDHA~1\\AppData\\Local\\Temp/ipykernel_9792/1177848872.py\u001b[0m in \u001b[0;36m<module>\u001b[1;34m\u001b[0m\n\u001b[0;32m      1\u001b[0m \u001b[1;31m#print from row 1 to 5 and all columns\u001b[0m\u001b[1;33m\u001b[0m\u001b[1;33m\u001b[0m\u001b[0m\n\u001b[1;32m----> 2\u001b[1;33m \u001b[0mprint\u001b[0m\u001b[1;33m(\u001b[0m\u001b[0mdata\u001b[0m\u001b[1;33m[\u001b[0m\u001b[1;33m:\u001b[0m\u001b[1;36m5\u001b[0m\u001b[1;33m,\u001b[0m \u001b[1;33m:\u001b[0m\u001b[1;33m]\u001b[0m\u001b[1;33m)\u001b[0m\u001b[1;33m\u001b[0m\u001b[1;33m\u001b[0m\u001b[0m\n\u001b[0m\u001b[0;32m      3\u001b[0m \u001b[1;31m#it will give error\u001b[0m\u001b[1;33m\u001b[0m\u001b[1;33m\u001b[0m\u001b[0m\n",
            "\u001b[1;31mTypeError\u001b[0m: list indices must be integers or slices, not tuple"
          ]
        }
      ],
      "source": [
        "#print from row 1 to 5 and all columns\n",
        "print(data[:5, :]) \n",
        "#it will give error"
      ]
    },
    {
      "cell_type": "markdown",
      "id": "1aececbd",
      "metadata": {
        "id": "1aececbd"
      },
      "source": [
        "# Lets change this list to array"
      ]
    },
    {
      "cell_type": "code",
      "execution_count": null,
      "id": "e4297cfd",
      "metadata": {
        "id": "e4297cfd",
        "outputId": "2e2f6774-d3f1-4aa0-b32f-c68fe3e41b54"
      },
      "outputs": [
        {
          "name": "stdout",
          "output_type": "stream",
          "text": [
            "data is of type:  <class 'numpy.ndarray'>\n"
          ]
        }
      ],
      "source": [
        "data = np.array(data)\n",
        "print('data is of type: ', type(data))"
      ]
    },
    {
      "cell_type": "markdown",
      "id": "ed30b835",
      "metadata": {
        "id": "ed30b835"
      },
      "source": [
        "# Now it will work"
      ]
    },
    {
      "cell_type": "code",
      "execution_count": null,
      "id": "14fcb361",
      "metadata": {
        "id": "14fcb361",
        "outputId": "31acbddd-1a4f-48dc-b3cb-590af912d887"
      },
      "outputs": [
        {
          "name": "stdout",
          "output_type": "stream",
          "text": [
            "[[ 1 10]\n",
            " [ 2 20]\n",
            " [ 3 30]\n",
            " [ 4 40]\n",
            " [ 5 50]]\n"
          ]
        }
      ],
      "source": [
        "#print from row 1 to 5 and all columns\n",
        "print(data[:5, :]) "
      ]
    },
    {
      "cell_type": "code",
      "execution_count": null,
      "id": "ef5315f2",
      "metadata": {
        "id": "ef5315f2",
        "outputId": "a5a41c88-6bae-467d-d336-352dd877c479"
      },
      "outputs": [
        {
          "name": "stdout",
          "output_type": "stream",
          "text": [
            "(5000, 2)\n"
          ]
        }
      ],
      "source": [
        "print(data.shape)"
      ]
    },
    {
      "cell_type": "markdown",
      "id": "f0840e2a",
      "metadata": {
        "id": "f0840e2a"
      },
      "source": [
        "# I want to export this data to csv file"
      ]
    },
    {
      "cell_type": "code",
      "execution_count": null,
      "id": "4ebb6645",
      "metadata": {
        "id": "4ebb6645"
      },
      "outputs": [],
      "source": [
        "import pandas as pd\n",
        "sales_dataset = pd.DataFrame(data)"
      ]
    },
    {
      "cell_type": "code",
      "execution_count": null,
      "id": "9bbc725d",
      "metadata": {
        "id": "9bbc725d",
        "outputId": "9a22046c-4979-4a80-ea55-344fc272a17e"
      },
      "outputs": [
        {
          "data": {
            "text/html": [
              "<div>\n",
              "<style scoped>\n",
              "    .dataframe tbody tr th:only-of-type {\n",
              "        vertical-align: middle;\n",
              "    }\n",
              "\n",
              "    .dataframe tbody tr th {\n",
              "        vertical-align: top;\n",
              "    }\n",
              "\n",
              "    .dataframe thead th {\n",
              "        text-align: right;\n",
              "    }\n",
              "</style>\n",
              "<table border=\"1\" class=\"dataframe\">\n",
              "  <thead>\n",
              "    <tr style=\"text-align: right;\">\n",
              "      <th></th>\n",
              "      <th>0</th>\n",
              "      <th>1</th>\n",
              "    </tr>\n",
              "  </thead>\n",
              "  <tbody>\n",
              "    <tr>\n",
              "      <th>0</th>\n",
              "      <td>1</td>\n",
              "      <td>10</td>\n",
              "    </tr>\n",
              "    <tr>\n",
              "      <th>1</th>\n",
              "      <td>2</td>\n",
              "      <td>20</td>\n",
              "    </tr>\n",
              "    <tr>\n",
              "      <th>2</th>\n",
              "      <td>3</td>\n",
              "      <td>30</td>\n",
              "    </tr>\n",
              "    <tr>\n",
              "      <th>3</th>\n",
              "      <td>4</td>\n",
              "      <td>40</td>\n",
              "    </tr>\n",
              "    <tr>\n",
              "      <th>4</th>\n",
              "      <td>5</td>\n",
              "      <td>50</td>\n",
              "    </tr>\n",
              "    <tr>\n",
              "      <th>5</th>\n",
              "      <td>6</td>\n",
              "      <td>60</td>\n",
              "    </tr>\n",
              "    <tr>\n",
              "      <th>6</th>\n",
              "      <td>7</td>\n",
              "      <td>70</td>\n",
              "    </tr>\n",
              "    <tr>\n",
              "      <th>7</th>\n",
              "      <td>8</td>\n",
              "      <td>80</td>\n",
              "    </tr>\n",
              "    <tr>\n",
              "      <th>8</th>\n",
              "      <td>9</td>\n",
              "      <td>90</td>\n",
              "    </tr>\n",
              "    <tr>\n",
              "      <th>9</th>\n",
              "      <td>10</td>\n",
              "      <td>100</td>\n",
              "    </tr>\n",
              "  </tbody>\n",
              "</table>\n",
              "</div>"
            ],
            "text/plain": [
              "    0    1\n",
              "0   1   10\n",
              "1   2   20\n",
              "2   3   30\n",
              "3   4   40\n",
              "4   5   50\n",
              "5   6   60\n",
              "6   7   70\n",
              "7   8   80\n",
              "8   9   90\n",
              "9  10  100"
            ]
          },
          "execution_count": 133,
          "metadata": {},
          "output_type": "execute_result"
        }
      ],
      "source": [
        "sales_dataset.head(10)"
      ]
    },
    {
      "cell_type": "code",
      "execution_count": null,
      "id": "a976135e",
      "metadata": {
        "id": "a976135e"
      },
      "outputs": [],
      "source": [
        "my_file = open('sales_dataset.csv','x')\n",
        "data_to_csv.to_csv('sales_dataset', index=False, header=False) \n",
        "#index= false zaka likam chi beya warsara pa file ki index razi like row 0 row 1 row to and so on\n",
        "#header=false zaka likam chi beya warsara pa file ki index razi like column 0 column and so on "
      ]
    },
    {
      "cell_type": "markdown",
      "id": "4c30b0b2",
      "metadata": {
        "id": "4c30b0b2"
      },
      "source": [
        "# 2. Drop the Time Column"
      ]
    },
    {
      "cell_type": "code",
      "execution_count": null,
      "id": "709f19bc",
      "metadata": {
        "id": "709f19bc",
        "outputId": "d2267de5-308b-4dbe-8887-9aaf2572c49d"
      },
      "outputs": [
        {
          "name": "stdout",
          "output_type": "stream",
          "text": [
            "(5000,)\n"
          ]
        }
      ],
      "source": [
        "\n",
        "# drop time means extract time column \n",
        "data = data[:, 1]\n",
        "print(data.shape)"
      ]
    },
    {
      "cell_type": "markdown",
      "id": "985f1374",
      "metadata": {
        "id": "985f1374"
      },
      "source": [
        "# 3. Split Into Samples"
      ]
    },
    {
      "cell_type": "code",
      "execution_count": null,
      "id": "6e1c8fa5",
      "metadata": {
        "id": "6e1c8fa5",
        "outputId": "3c6596da-a005-4a7f-c341-8ea7f55ab5c0"
      },
      "outputs": [
        {
          "name": "stdout",
          "output_type": "stream",
          "text": [
            "25\n"
          ]
        }
      ],
      "source": [
        "# split into samples (e. g. 5000/200 = 25)\n",
        "samples = list()\n",
        "length = 200\n",
        "# step over the 5,000 in jumps of 200\n",
        "for i in range(0,n,length):\n",
        "    # grab from i to i + 200\n",
        "    sample = data[i:i+length]\n",
        "    samples.append(sample)\n",
        "print(len(samples))"
      ]
    },
    {
      "cell_type": "markdown",
      "id": "23b6433b",
      "metadata": {
        "id": "23b6433b"
      },
      "source": [
        "# 4. Reshape Subsequences"
      ]
    },
    {
      "cell_type": "code",
      "execution_count": null,
      "id": "15fb23f4",
      "metadata": {
        "id": "15fb23f4",
        "outputId": "12701297-87eb-4af8-f4d3-295914d31b40"
      },
      "outputs": [
        {
          "name": "stdout",
          "output_type": "stream",
          "text": [
            "(25, 200)\n"
          ]
        }
      ],
      "source": [
        "# convert list of arrays into 2d array\n",
        "data = np.array(samples)\n",
        "print(data.shape)"
      ]
    },
    {
      "cell_type": "code",
      "execution_count": null,
      "id": "9bac550e",
      "metadata": {
        "id": "9bac550e",
        "outputId": "245cefa3-ab65-4420-f9b1-ad0956860bb0"
      },
      "outputs": [
        {
          "name": "stdout",
          "output_type": "stream",
          "text": [
            "(25, 200, 1)\n"
          ]
        }
      ],
      "source": [
        "# reshape into [samples, timesteps, features]\n",
        "data = data.reshape((len(samples), length, 1))\n",
        "print(data.shape)"
      ]
    },
    {
      "cell_type": "markdown",
      "id": "64882e64",
      "metadata": {
        "id": "64882e64"
      },
      "source": [
        "# And that is it. The data can now be used as an input (X) to an LSTM model, or even a CNN model."
      ]
    },
    {
      "cell_type": "markdown",
      "id": "2b4c6771",
      "metadata": {
        "id": "2b4c6771"
      },
      "source": [
        "# Lets Combine the code"
      ]
    },
    {
      "cell_type": "code",
      "execution_count": null,
      "id": "1923a6a6",
      "metadata": {
        "id": "1923a6a6",
        "outputId": "7ba2ae9d-5032-4831-ed9d-2d8a1d325872"
      },
      "outputs": [
        {
          "name": "stdout",
          "output_type": "stream",
          "text": [
            "(25, 200, 1)\n"
          ]
        }
      ],
      "source": [
        "# example of creating a 3d array of subsequences\n",
        "from numpy import array\n",
        "# define the dataset\n",
        "data1 = list()\n",
        "n = 5000\n",
        "for i in range(n):\n",
        "    data1.append([i+1, (i+1)*10])\n",
        "data1 = array(data1)\n",
        "#___________________________________________________________________________________________________\n",
        "# drop time\n",
        "data1 = data1[:, 1]\n",
        "#___________________________________________________________________________________________________\n",
        "# split into samples (e. g. 5000/200 = 25)\n",
        "samples = list()\n",
        "length = 200\n",
        "# step over the 5,000 in jumps of 200\n",
        "for i in range(0,n,length):\n",
        "    # grab from i to i + 200\n",
        "    sample = data1[i:i+length]\n",
        "    samples.append(sample)\n",
        "# convert list of arrays into 2d array\n",
        "data1 = array(samples)\n",
        "#___________________________________________________________________________________________________\n",
        "# reshape into [samples, timesteps, features]\n",
        "data1 = data1.reshape((len(samples), length, 1))\n",
        "print(data1.shape)\n",
        "#___________________________________________________________________________________________________\n"
      ]
    },
    {
      "cell_type": "code",
      "execution_count": null,
      "id": "038b2c1d",
      "metadata": {
        "id": "038b2c1d",
        "outputId": "958f5e9d-1659-48fb-c48b-2d0891836122"
      },
      "outputs": [
        {
          "data": {
            "text/plain": [
              "numpy.ndarray"
            ]
          },
          "execution_count": 180,
          "metadata": {},
          "output_type": "execute_result"
        }
      ],
      "source": [
        "type(data1)"
      ]
    },
    {
      "cell_type": "markdown",
      "id": "04087d3b",
      "metadata": {
        "id": "04087d3b"
      },
      "source": [
        "# How to export this data 3D to a csv file below if not working once i have exported 2D data to a csv file you can go through that portion"
      ]
    },
    {
      "cell_type": "code",
      "execution_count": null,
      "id": "66c6b4c1",
      "metadata": {
        "collapsed": true,
        "id": "66c6b4c1",
        "outputId": "8e9c1b49-b769-4a83-f5e1-85ca670e31a9"
      },
      "outputs": [
        {
          "ename": "ValueError",
          "evalue": "Must pass 2-d input. shape=(25, 200, 1)",
          "output_type": "error",
          "traceback": [
            "\u001b[1;31m---------------------------------------------------------------------------\u001b[0m",
            "\u001b[1;31mValueError\u001b[0m                                Traceback (most recent call last)",
            "\u001b[1;32mC:\\Users\\SYEDHA~1\\AppData\\Local\\Temp/ipykernel_9792/539609207.py\u001b[0m in \u001b[0;36m<module>\u001b[1;34m\u001b[0m\n\u001b[0;32m      1\u001b[0m \u001b[1;32mimport\u001b[0m \u001b[0mpandas\u001b[0m \u001b[1;32mas\u001b[0m \u001b[0mpd\u001b[0m\u001b[1;33m\u001b[0m\u001b[1;33m\u001b[0m\u001b[0m\n\u001b[1;32m----> 2\u001b[1;33m \u001b[0mtt\u001b[0m \u001b[1;33m=\u001b[0m \u001b[0mpd\u001b[0m\u001b[1;33m.\u001b[0m\u001b[0mDataFrame\u001b[0m\u001b[1;33m(\u001b[0m\u001b[0mdata1\u001b[0m\u001b[1;33m)\u001b[0m\u001b[1;33m\u001b[0m\u001b[1;33m\u001b[0m\u001b[0m\n\u001b[0m",
            "\u001b[1;32m~\\Anaconda2\\envs\\hasnat1\\lib\\site-packages\\pandas\\core\\frame.py\u001b[0m in \u001b[0;36m__init__\u001b[1;34m(self, data, index, columns, dtype, copy)\u001b[0m\n\u001b[0;32m    670\u001b[0m                 )\n\u001b[0;32m    671\u001b[0m             \u001b[1;32melse\u001b[0m\u001b[1;33m:\u001b[0m\u001b[1;33m\u001b[0m\u001b[1;33m\u001b[0m\u001b[0m\n\u001b[1;32m--> 672\u001b[1;33m                 mgr = ndarray_to_mgr(\n\u001b[0m\u001b[0;32m    673\u001b[0m                     \u001b[0mdata\u001b[0m\u001b[1;33m,\u001b[0m\u001b[1;33m\u001b[0m\u001b[1;33m\u001b[0m\u001b[0m\n\u001b[0;32m    674\u001b[0m                     \u001b[0mindex\u001b[0m\u001b[1;33m,\u001b[0m\u001b[1;33m\u001b[0m\u001b[1;33m\u001b[0m\u001b[0m\n",
            "\u001b[1;32m~\\Anaconda2\\envs\\hasnat1\\lib\\site-packages\\pandas\\core\\internals\\construction.py\u001b[0m in \u001b[0;36mndarray_to_mgr\u001b[1;34m(values, index, columns, dtype, copy, typ)\u001b[0m\n\u001b[0;32m    302\u001b[0m         \u001b[1;31m# by definition an array here\u001b[0m\u001b[1;33m\u001b[0m\u001b[1;33m\u001b[0m\u001b[0m\n\u001b[0;32m    303\u001b[0m         \u001b[1;31m# the dtypes will be coerced to a single dtype\u001b[0m\u001b[1;33m\u001b[0m\u001b[1;33m\u001b[0m\u001b[0m\n\u001b[1;32m--> 304\u001b[1;33m         \u001b[0mvalues\u001b[0m \u001b[1;33m=\u001b[0m \u001b[0m_prep_ndarray\u001b[0m\u001b[1;33m(\u001b[0m\u001b[0mvalues\u001b[0m\u001b[1;33m,\u001b[0m \u001b[0mcopy\u001b[0m\u001b[1;33m=\u001b[0m\u001b[0mcopy\u001b[0m\u001b[1;33m)\u001b[0m\u001b[1;33m\u001b[0m\u001b[1;33m\u001b[0m\u001b[0m\n\u001b[0m\u001b[0;32m    305\u001b[0m \u001b[1;33m\u001b[0m\u001b[0m\n\u001b[0;32m    306\u001b[0m     \u001b[1;32mif\u001b[0m \u001b[0mdtype\u001b[0m \u001b[1;32mis\u001b[0m \u001b[1;32mnot\u001b[0m \u001b[1;32mNone\u001b[0m \u001b[1;32mand\u001b[0m \u001b[1;32mnot\u001b[0m \u001b[0mis_dtype_equal\u001b[0m\u001b[1;33m(\u001b[0m\u001b[0mvalues\u001b[0m\u001b[1;33m.\u001b[0m\u001b[0mdtype\u001b[0m\u001b[1;33m,\u001b[0m \u001b[0mdtype\u001b[0m\u001b[1;33m)\u001b[0m\u001b[1;33m:\u001b[0m\u001b[1;33m\u001b[0m\u001b[1;33m\u001b[0m\u001b[0m\n",
            "\u001b[1;32m~\\Anaconda2\\envs\\hasnat1\\lib\\site-packages\\pandas\\core\\internals\\construction.py\u001b[0m in \u001b[0;36m_prep_ndarray\u001b[1;34m(values, copy)\u001b[0m\n\u001b[0;32m    553\u001b[0m         \u001b[0mvalues\u001b[0m \u001b[1;33m=\u001b[0m \u001b[0mvalues\u001b[0m\u001b[1;33m.\u001b[0m\u001b[0mreshape\u001b[0m\u001b[1;33m(\u001b[0m\u001b[1;33m(\u001b[0m\u001b[0mvalues\u001b[0m\u001b[1;33m.\u001b[0m\u001b[0mshape\u001b[0m\u001b[1;33m[\u001b[0m\u001b[1;36m0\u001b[0m\u001b[1;33m]\u001b[0m\u001b[1;33m,\u001b[0m \u001b[1;36m1\u001b[0m\u001b[1;33m)\u001b[0m\u001b[1;33m)\u001b[0m\u001b[1;33m\u001b[0m\u001b[1;33m\u001b[0m\u001b[0m\n\u001b[0;32m    554\u001b[0m     \u001b[1;32melif\u001b[0m \u001b[0mvalues\u001b[0m\u001b[1;33m.\u001b[0m\u001b[0mndim\u001b[0m \u001b[1;33m!=\u001b[0m \u001b[1;36m2\u001b[0m\u001b[1;33m:\u001b[0m\u001b[1;33m\u001b[0m\u001b[1;33m\u001b[0m\u001b[0m\n\u001b[1;32m--> 555\u001b[1;33m         \u001b[1;32mraise\u001b[0m \u001b[0mValueError\u001b[0m\u001b[1;33m(\u001b[0m\u001b[1;34mf\"Must pass 2-d input. shape={values.shape}\"\u001b[0m\u001b[1;33m)\u001b[0m\u001b[1;33m\u001b[0m\u001b[1;33m\u001b[0m\u001b[0m\n\u001b[0m\u001b[0;32m    556\u001b[0m \u001b[1;33m\u001b[0m\u001b[0m\n\u001b[0;32m    557\u001b[0m     \u001b[1;32mreturn\u001b[0m \u001b[0mvalues\u001b[0m\u001b[1;33m\u001b[0m\u001b[1;33m\u001b[0m\u001b[0m\n",
            "\u001b[1;31mValueError\u001b[0m: Must pass 2-d input. shape=(25, 200, 1)"
          ]
        }
      ],
      "source": [
        "import pandas as pd\n",
        "input_dataset_to_CNN_and_LSTM = pd.DataFrame(data1)\n",
        "my_file = open('input_dataset_to_CNN_and_LSTM.csv','x')\n",
        "tt.to_csv('input_dataset_to_CNN_and_LSTM', index=False, header=False) "
      ]
    }
  ],
  "metadata": {
    "kernelspec": {
      "display_name": "Python 3 (ipykernel)",
      "language": "python",
      "name": "python3"
    },
    "language_info": {
      "codemirror_mode": {
        "name": "ipython",
        "version": 3
      },
      "file_extension": ".py",
      "mimetype": "text/x-python",
      "name": "python",
      "nbconvert_exporter": "python",
      "pygments_lexer": "ipython3",
      "version": "3.9.7"
    },
    "colab": {
      "name": "To Prepare Time Series Data for CNNs and LSTMs.ipynb",
      "provenance": [],
      "collapsed_sections": [
        "bf9da427"
      ],
      "include_colab_link": true
    }
  },
  "nbformat": 4,
  "nbformat_minor": 5
}